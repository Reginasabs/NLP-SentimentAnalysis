{
 "cells": [
  {
   "cell_type": "code",
   "execution_count": 1,
   "id": "313d2745-d490-41af-a74e-48917343ce6a",
   "metadata": {},
   "outputs": [],
   "source": [
    "from sklearn.feature_extraction.text import TfidfVectorizer"
   ]
  },
  {
   "cell_type": "code",
   "execution_count": 2,
   "id": "89dd23da-bda1-4fe7-a906-d4967ca22c2c",
   "metadata": {},
   "outputs": [],
   "source": [
    "# Corpus\n",
    "corpus = [\n",
    "    \"Machine learning is fun.\",\n",
    "    \"Python is a popular language for machine learning.\",\n",
    "    \"Natural language processing is a part of machine learning.\"\n",
    "]"
   ]
  },
  {
   "cell_type": "code",
   "execution_count": 3,
   "id": "c36f8f58-4e3c-44cc-9fe5-c6f4c179622c",
   "metadata": {},
   "outputs": [],
   "source": [
    "# Initialize TfidfVectorizer\n",
    "vectorizer = TfidfVectorizer()"
   ]
  },
  {
   "cell_type": "code",
   "execution_count": 4,
   "id": "5ee0b66c-cd3b-41bc-8c1e-30720395b75a",
   "metadata": {},
   "outputs": [],
   "source": [
    "# Fit and transform the corpus\n",
    "tfidf_matrix = vectorizer.fit_transform(corpus)"
   ]
  },
  {
   "cell_type": "code",
   "execution_count": 5,
   "id": "a6217109-cae0-4adb-ba2e-9102b0d64ce6",
   "metadata": {},
   "outputs": [],
   "source": [
    "# Convert to array to print the matrix\n",
    "tfidf_matrix_array = tfidf_matrix.toarray()"
   ]
  },
  {
   "cell_type": "code",
   "execution_count": 6,
   "id": "43e36d2e-3190-46e0-a1ba-92fea1eca1a4",
   "metadata": {},
   "outputs": [],
   "source": [
    "# Get feature names\n",
    "feature_names = vectorizer.get_feature_names_out()"
   ]
  },
  {
   "cell_type": "code",
   "execution_count": 7,
   "id": "e88b4589-f197-4832-8042-b3ce0fe8cd37",
   "metadata": {},
   "outputs": [
    {
     "name": "stdout",
     "output_type": "stream",
     "text": [
      "TF-IDF Matrix:\n",
      "[[0.         0.69903033 0.41285857 0.         0.41285857 0.41285857\n",
      "  0.         0.         0.         0.         0.         0.        ]\n",
      " [0.46499651 0.         0.27463443 0.35364183 0.27463443 0.27463443\n",
      "  0.         0.         0.         0.46499651 0.         0.46499651]\n",
      " [0.         0.         0.24902824 0.3206692  0.24902824 0.24902824\n",
      "  0.42164146 0.42164146 0.42164146 0.         0.42164146 0.        ]]\n",
      "\n",
      "Feature Names:\n",
      "['for' 'fun' 'is' 'language' 'learning' 'machine' 'natural' 'of' 'part'\n",
      " 'popular' 'processing' 'python']\n"
     ]
    }
   ],
   "source": [
    "# Print the TF-IDF matrix\n",
    "print(\"TF-IDF Matrix:\")\n",
    "print(tfidf_matrix_array)\n",
    "\n",
    "# Print feature names for reference\n",
    "print(\"\\nFeature Names:\")\n",
    "print(feature_names)"
   ]
  },
  {
   "cell_type": "code",
   "execution_count": null,
   "id": "63ec8837-37ce-423d-8cd0-35928bd4473b",
   "metadata": {},
   "outputs": [],
   "source": []
  }
 ],
 "metadata": {
  "kernelspec": {
   "display_name": "Python 3 (ipykernel)",
   "language": "python",
   "name": "python3"
  },
  "language_info": {
   "codemirror_mode": {
    "name": "ipython",
    "version": 3
   },
   "file_extension": ".py",
   "mimetype": "text/x-python",
   "name": "python",
   "nbconvert_exporter": "python",
   "pygments_lexer": "ipython3",
   "version": "3.9.19"
  }
 },
 "nbformat": 4,
 "nbformat_minor": 5
}
