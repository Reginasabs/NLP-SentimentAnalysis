{
 "cells": [
  {
   "cell_type": "code",
   "execution_count": 1,
   "id": "8de82c37-5780-406a-b660-ceb1f0db7780",
   "metadata": {},
   "outputs": [],
   "source": [
    "import pandas as pd\n",
    "from sklearn.feature_extraction.text import TfidfVectorizer\n",
    "from sklearn.model_selection import train_test_split\n",
    "from sklearn.ensemble import RandomForestClassifier\n",
    "from sklearn.metrics import accuracy_score, classification_report, confusion_matrix\n",
    "import seaborn as sns\n",
    "import matplotlib.pyplot as plt\n",
    "from textblob import TextBlob"
   ]
  },
  {
   "cell_type": "code",
   "execution_count": 2,
   "id": "89135e69-2bd6-4991-adcd-485706bcc5a5",
   "metadata": {},
   "outputs": [],
   "source": [
    "# Step 1: Create a small dataset with clear sentiment labels\n",
    "data = {\n",
    "    'text': [\n",
    "        'I love this movie', \n",
    "        'This movie is terrible', \n",
    "        'I really enjoyed this film', \n",
    "        'This film is awful', \n",
    "        'What a fantastic experience', \n",
    "        'I hated this film', \n",
    "        'This was a great movie', \n",
    "        'The film was not good', \n",
    "        'I am very happy with this movie', \n",
    "        'I am disappointed with this film'\n",
    "    ],\n",
    "    'label': ['positive', 'negative', 'positive', 'negative', 'positive', 'negative', 'positive', 'negative', 'positive', 'negative']\n",
    "}"
   ]
  },
  {
   "cell_type": "code",
   "execution_count": 3,
   "id": "5a2e5ddb-967a-4d63-a723-3e0c2f639301",
   "metadata": {},
   "outputs": [],
   "source": [
    "# Create DataFrame\n",
    "df = pd.DataFrame(data)\n",
    "\n",
    "# Step 2: Preprocess the text data\n",
    "df['text'] = df['text'].str.lower()"
   ]
  },
  {
   "cell_type": "code",
   "execution_count": 4,
   "id": "ef60e9a8-99d8-4737-9408-44561f630a99",
   "metadata": {},
   "outputs": [],
   "source": [
    "# Step 3: Convert text data into a TF-IDF representation\n",
    "vectorizer = TfidfVectorizer()\n",
    "X = vectorizer.fit_transform(df['text'])"
   ]
  },
  {
   "cell_type": "code",
   "execution_count": 5,
   "id": "6211aabe-04b6-4fe9-b303-d8295d9ddd1f",
   "metadata": {},
   "outputs": [
    {
     "name": "stdout",
     "output_type": "stream",
     "text": [
      "TF-IDF Matrix:\n",
      "[[0.         0.         0.         0.         0.         0.\n",
      "  0.         0.         0.         0.         0.         0.\n",
      "  0.78223376 0.5172355  0.         0.         0.         0.\n",
      "  0.34724312 0.         0.         0.         0.        ]\n",
      " [0.         0.         0.         0.         0.         0.\n",
      "  0.         0.         0.         0.         0.         0.5537218\n",
      "  0.         0.43070289 0.         0.         0.6513674  0.\n",
      "  0.28914994 0.         0.         0.         0.        ]\n",
      " [0.         0.         0.         0.62626343 0.         0.\n",
      "  0.37188828 0.         0.         0.         0.         0.\n",
      "  0.         0.         0.         0.62626343 0.         0.\n",
      "  0.27800598 0.         0.         0.         0.        ]\n",
      " [0.         0.66338198 0.         0.         0.         0.\n",
      "  0.39393005 0.         0.         0.         0.         0.56393529\n",
      "  0.         0.         0.         0.         0.         0.\n",
      "  0.29448336 0.         0.         0.         0.        ]\n",
      " [0.         0.         0.         0.         0.57735027 0.57735027\n",
      "  0.         0.         0.         0.         0.         0.\n",
      "  0.         0.         0.         0.         0.         0.\n",
      "  0.         0.         0.         0.57735027 0.        ]\n",
      " [0.         0.         0.         0.         0.         0.\n",
      "  0.47701743 0.         0.         0.         0.80330193 0.\n",
      "  0.         0.         0.         0.         0.         0.\n",
      "  0.35659553 0.         0.         0.         0.        ]\n",
      " [0.         0.         0.         0.         0.         0.\n",
      "  0.         0.         0.6513674  0.         0.         0.\n",
      "  0.         0.43070289 0.         0.         0.         0.\n",
      "  0.28914994 0.         0.5537218  0.         0.        ]\n",
      " [0.         0.         0.         0.         0.         0.\n",
      "  0.29415538 0.49536048 0.         0.         0.         0.\n",
      "  0.         0.         0.49536048 0.         0.         0.49536048\n",
      "  0.         0.         0.42110166 0.         0.        ]\n",
      " [0.42087897 0.         0.         0.         0.         0.\n",
      "  0.         0.         0.         0.49509851 0.         0.\n",
      "  0.         0.3273734  0.         0.         0.         0.\n",
      "  0.21978027 0.49509851 0.         0.         0.42087897]\n",
      " [0.49121065 0.         0.57783278 0.         0.         0.\n",
      "  0.34312915 0.         0.         0.         0.         0.\n",
      "  0.         0.         0.         0.         0.         0.\n",
      "  0.25650702 0.         0.         0.         0.49121065]]\n"
     ]
    }
   ],
   "source": [
    "# Print the TF-IDF matrix\n",
    "print(\"TF-IDF Matrix:\")\n",
    "print(X.toarray())"
   ]
  },
  {
   "cell_type": "code",
   "execution_count": 6,
   "id": "de7d96dd-4d6e-4d4e-9912-298ce3c910bf",
   "metadata": {},
   "outputs": [
    {
     "name": "stdout",
     "output_type": "stream",
     "text": [
      "Feature Names (Words):\n",
      "['am' 'awful' 'disappointed' 'enjoyed' 'experience' 'fantastic' 'film'\n",
      " 'good' 'great' 'happy' 'hated' 'is' 'love' 'movie' 'not' 'really'\n",
      " 'terrible' 'the' 'this' 'very' 'was' 'what' 'with']\n"
     ]
    }
   ],
   "source": [
    "# Print the feature names (words)\n",
    "print(\"Feature Names (Words):\")\n",
    "print(vectorizer.get_feature_names_out())"
   ]
  },
  {
   "cell_type": "code",
   "execution_count": 7,
   "id": "dbe92a3a-ea22-4761-a1b7-cd05089678ab",
   "metadata": {},
   "outputs": [],
   "source": [
    "# Step 4: Split data into train and test sets\n",
    "X_train, X_test, y_train, y_test = train_test_split(X, df['label'], test_size=0.2, random_state=42)"
   ]
  },
  {
   "cell_type": "code",
   "execution_count": 8,
   "id": "1ba788d5-acfb-49e8-ae9b-21604bb60c29",
   "metadata": {},
   "outputs": [
    {
     "data": {
      "text/html": [
       "<style>#sk-container-id-1 {color: black;}#sk-container-id-1 pre{padding: 0;}#sk-container-id-1 div.sk-toggleable {background-color: white;}#sk-container-id-1 label.sk-toggleable__label {cursor: pointer;display: block;width: 100%;margin-bottom: 0;padding: 0.3em;box-sizing: border-box;text-align: center;}#sk-container-id-1 label.sk-toggleable__label-arrow:before {content: \"▸\";float: left;margin-right: 0.25em;color: #696969;}#sk-container-id-1 label.sk-toggleable__label-arrow:hover:before {color: black;}#sk-container-id-1 div.sk-estimator:hover label.sk-toggleable__label-arrow:before {color: black;}#sk-container-id-1 div.sk-toggleable__content {max-height: 0;max-width: 0;overflow: hidden;text-align: left;background-color: #f0f8ff;}#sk-container-id-1 div.sk-toggleable__content pre {margin: 0.2em;color: black;border-radius: 0.25em;background-color: #f0f8ff;}#sk-container-id-1 input.sk-toggleable__control:checked~div.sk-toggleable__content {max-height: 200px;max-width: 100%;overflow: auto;}#sk-container-id-1 input.sk-toggleable__control:checked~label.sk-toggleable__label-arrow:before {content: \"▾\";}#sk-container-id-1 div.sk-estimator input.sk-toggleable__control:checked~label.sk-toggleable__label {background-color: #d4ebff;}#sk-container-id-1 div.sk-label input.sk-toggleable__control:checked~label.sk-toggleable__label {background-color: #d4ebff;}#sk-container-id-1 input.sk-hidden--visually {border: 0;clip: rect(1px 1px 1px 1px);clip: rect(1px, 1px, 1px, 1px);height: 1px;margin: -1px;overflow: hidden;padding: 0;position: absolute;width: 1px;}#sk-container-id-1 div.sk-estimator {font-family: monospace;background-color: #f0f8ff;border: 1px dotted black;border-radius: 0.25em;box-sizing: border-box;margin-bottom: 0.5em;}#sk-container-id-1 div.sk-estimator:hover {background-color: #d4ebff;}#sk-container-id-1 div.sk-parallel-item::after {content: \"\";width: 100%;border-bottom: 1px solid gray;flex-grow: 1;}#sk-container-id-1 div.sk-label:hover label.sk-toggleable__label {background-color: #d4ebff;}#sk-container-id-1 div.sk-serial::before {content: \"\";position: absolute;border-left: 1px solid gray;box-sizing: border-box;top: 0;bottom: 0;left: 50%;z-index: 0;}#sk-container-id-1 div.sk-serial {display: flex;flex-direction: column;align-items: center;background-color: white;padding-right: 0.2em;padding-left: 0.2em;position: relative;}#sk-container-id-1 div.sk-item {position: relative;z-index: 1;}#sk-container-id-1 div.sk-parallel {display: flex;align-items: stretch;justify-content: center;background-color: white;position: relative;}#sk-container-id-1 div.sk-item::before, #sk-container-id-1 div.sk-parallel-item::before {content: \"\";position: absolute;border-left: 1px solid gray;box-sizing: border-box;top: 0;bottom: 0;left: 50%;z-index: -1;}#sk-container-id-1 div.sk-parallel-item {display: flex;flex-direction: column;z-index: 1;position: relative;background-color: white;}#sk-container-id-1 div.sk-parallel-item:first-child::after {align-self: flex-end;width: 50%;}#sk-container-id-1 div.sk-parallel-item:last-child::after {align-self: flex-start;width: 50%;}#sk-container-id-1 div.sk-parallel-item:only-child::after {width: 0;}#sk-container-id-1 div.sk-dashed-wrapped {border: 1px dashed gray;margin: 0 0.4em 0.5em 0.4em;box-sizing: border-box;padding-bottom: 0.4em;background-color: white;}#sk-container-id-1 div.sk-label label {font-family: monospace;font-weight: bold;display: inline-block;line-height: 1.2em;}#sk-container-id-1 div.sk-label-container {text-align: center;}#sk-container-id-1 div.sk-container {/* jupyter's `normalize.less` sets `[hidden] { display: none; }` but bootstrap.min.css set `[hidden] { display: none !important; }` so we also need the `!important` here to be able to override the default hidden behavior on the sphinx rendered scikit-learn.org. See: https://github.com/scikit-learn/scikit-learn/issues/21755 */display: inline-block !important;position: relative;}#sk-container-id-1 div.sk-text-repr-fallback {display: none;}</style><div id=\"sk-container-id-1\" class=\"sk-top-container\"><div class=\"sk-text-repr-fallback\"><pre>RandomForestClassifier(random_state=42)</pre><b>In a Jupyter environment, please rerun this cell to show the HTML representation or trust the notebook. <br />On GitHub, the HTML representation is unable to render, please try loading this page with nbviewer.org.</b></div><div class=\"sk-container\" hidden><div class=\"sk-item\"><div class=\"sk-estimator sk-toggleable\"><input class=\"sk-toggleable__control sk-hidden--visually\" id=\"sk-estimator-id-1\" type=\"checkbox\" checked><label for=\"sk-estimator-id-1\" class=\"sk-toggleable__label sk-toggleable__label-arrow\">RandomForestClassifier</label><div class=\"sk-toggleable__content\"><pre>RandomForestClassifier(random_state=42)</pre></div></div></div></div></div>"
      ],
      "text/plain": [
       "RandomForestClassifier(random_state=42)"
      ]
     },
     "execution_count": 8,
     "metadata": {},
     "output_type": "execute_result"
    }
   ],
   "source": [
    "# Step 5: Train a Random Forest classifier\n",
    "clf = RandomForestClassifier(n_estimators=100, random_state=42)\n",
    "clf.fit(X_train, y_train)"
   ]
  },
  {
   "cell_type": "code",
   "execution_count": 9,
   "id": "097a072b-493b-4266-a465-064bc57d339d",
   "metadata": {},
   "outputs": [],
   "source": [
    "# Predict on test data\n",
    "y_pred = clf.predict(X_test)"
   ]
  },
  {
   "cell_type": "code",
   "execution_count": 11,
   "id": "e32eb373-5b26-4b01-8b00-5673a878ec08",
   "metadata": {},
   "outputs": [],
   "source": [
    "# Evaluate the classifier\n",
    "accuracy = accuracy_score(y_test, y_pred)\n",
    "report = classification_report(y_test, y_pred, zero_division=1)\n",
    "conf_matrix = confusion_matrix(y_test, y_pred)"
   ]
  },
  {
   "cell_type": "code",
   "execution_count": 12,
   "id": "58b1ffe0-486d-4756-8a28-b9adc165a425",
   "metadata": {},
   "outputs": [
    {
     "name": "stdout",
     "output_type": "stream",
     "text": [
      "Accuracy: 0.5\n",
      "\n",
      "Classification Report:\n",
      "              precision    recall  f1-score   support\n",
      "\n",
      "    negative       1.00      0.00      0.00         1\n",
      "    positive       0.50      1.00      0.67         1\n",
      "\n",
      "    accuracy                           0.50         2\n",
      "   macro avg       0.75      0.50      0.33         2\n",
      "weighted avg       0.75      0.50      0.33         2\n",
      "\n"
     ]
    }
   ],
   "source": [
    "print(f'Accuracy: {accuracy}\\n')\n",
    "print('Classification Report:')\n",
    "print(report)"
   ]
  },
  {
   "cell_type": "code",
   "execution_count": 13,
   "id": "17a4bd34-7dd7-4f24-9287-30f54a2fa66f",
   "metadata": {},
   "outputs": [
    {
     "name": "stdout",
     "output_type": "stream",
     "text": [
      "Confusion Matrix:\n",
      "[[0 1]\n",
      " [0 1]]\n"
     ]
    }
   ],
   "source": [
    "print('Confusion Matrix:')\n",
    "print(conf_matrix)"
   ]
  },
  {
   "cell_type": "code",
   "execution_count": 14,
   "id": "9b09b519-2eb7-4c44-9d0b-99be160cd7ce",
   "metadata": {},
   "outputs": [
    {
     "data": {
      "image/png": "[encoded data removed]",
      "text/plain": [
       "<Figure size 640x480 with 2 Axes>"
      ]
     },
     "metadata": {},
     "output_type": "display_data"
    }
   ],
   "source": [
    "# Plotting the confusion matrix\n",
    "sns.heatmap(conf_matrix, annot=True, fmt='d', cmap='Blues', xticklabels=['negative', 'positive'], yticklabels=['negative', 'positive'])\n",
    "plt.xlabel('Predicted')\n",
    "plt.ylabel('Actual')\n",
    "plt.title('Confusion Matrix')\n",
    "plt.show()"
   ]
  },
  {
   "cell_type": "code",
   "execution_count": 15,
   "id": "e092e790-8332-4026-8109-008f521f7999",
   "metadata": {},
   "outputs": [],
   "source": [
    "# Function to classify new user input and get polarity and subjectivity\n",
    "def classify_and_analyze_input(new_input):\n",
    "    new_input_lower = new_input.lower()\n",
    "    new_input_vector = vectorizer.transform([new_input_lower])\n",
    "    prediction = clf.predict(new_input_vector)[0]\n",
    "\n",
    "    blob = TextBlob(new_input)\n",
    "    polarity = blob.sentiment.polarity\n",
    "    subjectivity = blob.sentiment.subjectivity\n",
    "\n",
    "    return prediction, polarity, subjectivity"
   ]
  },
  {
   "cell_type": "code",
   "execution_count": 16,
   "id": "c3b66eca-9d48-4b28-add7-8dc6e6b50a3d",
   "metadata": {},
   "outputs": [],
   "source": [
    "# Test the classification function with two sample inputs\n",
    "sample_inputs = [\n",
    "    \"I absolutely loved this film, it was fantastic!\",\n",
    "    \"The movie was not good and I did not enjoy it at all.\"\n",
    "]"
   ]
  },
  {
   "cell_type": "code",
   "execution_count": 17,
   "id": "0adc5a8a-bbe6-445a-8522-4d0c57395ddf",
   "metadata": {},
   "outputs": [
    {
     "name": "stdout",
     "output_type": "stream",
     "text": [
      "Sample Input 1: \"I absolutely loved this film, it was fantastic!\"\n",
      "Classification: negative\n",
      "Polarity: 0.6\n",
      "Subjectivity: 0.8500000000000001\n",
      "\n",
      "Sample Input 2: \"The movie was not good and I did not enjoy it at all.\"\n",
      "Classification: negative\n",
      "Polarity: -0.275\n",
      "Subjectivity: 0.55\n",
      "\n"
     ]
    }
   ],
   "source": [
    "for i, sample in enumerate(sample_inputs):\n",
    "    classification, polarity, subjectivity = classify_and_analyze_input(sample)\n",
    "    print(f'Sample Input {i+1}: \"{sample}\"')\n",
    "    print(f'Classification: {classification}')\n",
    "    print(f'Polarity: {polarity}')\n",
    "    print(f'Subjectivity: {subjectivity}\\n')"
   ]
  },
  {
   "cell_type": "code",
   "execution_count": null,
   "id": "eb8a8aa8-935f-4d90-b86b-2bfe7e0d9370",
   "metadata": {},
   "outputs": [],
   "source": []
  }
 ],
 "metadata": {
  "kernelspec": {
   "display_name": "Python 3 (ipykernel)",
   "language": "python",
   "name": "python3"
  },
  "language_info": {
   "codemirror_mode": {
    "name": "ipython",
    "version": 3
   },
   "file_extension": ".py",
   "mimetype": "text/x-python",
   "name": "python",
   "nbconvert_exporter": "python",
   "pygments_lexer": "ipython3",
   "version": "3.9.19"
  }
 },
 "nbformat": 4,
 "nbformat_minor": 5
}
